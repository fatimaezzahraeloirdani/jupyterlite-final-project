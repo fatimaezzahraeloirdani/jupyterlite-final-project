{
  "metadata": {
    "kernelspec": {
      "name": "python",
      "display_name": "Python (Pyodide)",
      "language": "python"
    },
    "language_info": {
      "codemirror_mode": {
        "name": "python",
        "version": 3
      },
      "file_extension": ".py",
      "mimetype": "text/x-python",
      "name": "python",
      "nbconvert_exporter": "python",
      "pygments_lexer": "ipython3",
      "version": "3.8"
    }
  },
  "nbformat_minor": 5,
  "nbformat": 4,
  "cells": [
    {
      "id": "526099d9",
      "cell_type": "markdown",
      "source": "# Final Project: Introduction to Data Science with JupyterLite\n\n*Exercise 2 — Title of the notebook.*",
      "metadata": {}
    },
    {
      "id": "3380aef6",
      "cell_type": "markdown",
      "source": "## Introduction\n\nThis notebook is a simple final project for the Data Science course using **JupyterLite**. It contains a mix of Markdown and Python code cells that demonstrate basic notebook usage, simple arithmetic, and a small function to convert minutes to hours. \n\n*Exercise 3 — Introduction.*",
      "metadata": {}
    },
    {
      "id": "7db91599",
      "cell_type": "markdown",
      "source": "## Data Science Languages\n\n*Exercise 4 — List of data science languages.*\n\n- **Python** — versatile and widely used for data manipulation, analysis, and ML.\n- **R** — popular for statistics and data visualization.\n- **SQL** — used to query structured databases.\n- **Julia** — high-performance numerical computing.\n",
      "metadata": {}
    },
    {
      "id": "24fc73bd",
      "cell_type": "markdown",
      "source": "## Data Science Libraries\n\n*Exercise 5 — List of common libraries.*\n\n- **pandas** — data frames and data manipulation.\n- **numpy** — numerical operations and arrays.\n- **matplotlib** — core plotting library.\n- **seaborn** — statistical data visualization.\n- **scikit-learn** — classic machine learning algorithms.\n- **tensorflow / pytorch** — deep learning frameworks.\n",
      "metadata": {
        "jp-MarkdownHeadingCollapsed": true
      }
    },
    {
      "id": "46a24fa6",
      "cell_type": "markdown",
      "source": "## Data Science Tools (table)\n\n*Exercise 6 — Table of tools.*\n\n| Tool | Category | Short description |\n|---|---|---|\n| Jupyter / JupyterLab | Notebook IDE | Interactive notebooks for code + text |\n| JupyterLite | Browser-based Notebook | Tiny, browser-only Jupyter using Pyodide |\n| Git / GitHub | Version control & hosting | Share and host code and notebooks |\n| Google Colab | Hosted notebooks | Run notebooks on cloud CPUs/GPUs |\n| VS Code | Code editor | Notebooks + editor integration |\n| Anaconda | Distribution | Package & environment manager for Python |\n",
      "metadata": {}
    },
    {
      "id": "e2a2ac52",
      "cell_type": "markdown",
      "source": "## Arithmetic expression examples\n\n*Exercise 7 — Short intro to the code examples below.*\n\nThe next two cells show simple Python code: one that multiplies and adds numbers, and another that converts minutes to hours.",
      "metadata": {}
    },
    {
      "id": "9f057b05",
      "cell_type": "code",
      "source": "# Exercise 8 — multiply and add numbers\na = 7\nb = 5\nc = 3\n\nresult = a * b + c\nprint(f\"{a} * {b} + {c} = {result}\")\n\n# Another example with different numbers\nx, y, z = 4, 6, 10\nprint(f\"{x} * {y} + {z} = {x * y + z}\")\n",
      "metadata": {
        "trusted": true
      },
      "outputs": [
        {
          "name": "stdout",
          "output_type": "stream",
          "text": "7 * 5 + 3 = 38\n4 * 6 + 10 = 34\n"
        }
      ],
      "execution_count": 2
    },
    {
      "id": "785d4570",
      "cell_type": "code",
      "source": "# Exercise 9 — convert minutes to hours\n\ndef convert_minutes_to_hours(minutes: int):\n    \"\"\"Return (hours, remaining_minutes, decimal_hours).\"\"\"\n    hours = minutes // 60\n    remaining_minutes = minutes % 60\n    decimal_hours = minutes / 60\n    return hours, remaining_minutes, decimal_hours\n\n# Test examples:\nfor m in [45, 90, 135]:\n    h, rm, dh = convert_minutes_to_hours(m)\n    print(f\"{m} minutes = {h} hour(s) and {rm} minute(s) ({dh:.2f} hours)\")\n",
      "metadata": {
        "trusted": true
      },
      "outputs": [
        {
          "name": "stdout",
          "output_type": "stream",
          "text": "45 minutes = 0 hour(s) and 45 minute(s) (0.75 hours)\n90 minutes = 1 hour(s) and 30 minute(s) (1.50 hours)\n135 minutes = 2 hour(s) and 15 minute(s) (2.25 hours)\n"
        }
      ],
      "execution_count": 3
    },
    {
      "id": "70b06a03",
      "cell_type": "markdown",
      "source": "## Objectives\n\n*Exercise 10 — List of objectives.*\n\n1. Learn how to create and run Markdown and Code cells in a Jupyter notebook.\n2. Practice simple Python arithmetic and basic functions.\n3. Save and share a notebook publicly on GitHub.\n",
      "metadata": {}
    },
    {
      "id": "a3855c88",
      "cell_type": "markdown",
      "source": "## Author\n\n*Exercise 11 — Author's name.*\n\nAuthor: **[Fatima-Ezzahra EL OIRDANI]**\n\nDate: [21/09/2025]\n",
      "metadata": {}
    },
    {
      "id": "ba29a9b8-4860-4891-8c55-a0de2fd49109",
      "cell_type": "code",
      "source": "",
      "metadata": {
        "trusted": true
      },
      "outputs": [],
      "execution_count": null
    }
  ]
}